{
 "cells": [
  {
   "cell_type": "code",
   "execution_count": 21,
   "metadata": {
    "collapsed": false
   },
   "outputs": [],
   "source": [
    "import SnakesLadders as SL\n",
    "from pprint import PrettyPrinter\n",
    "import pandas as pd\n",
    "%matplotlib inline\n",
    "\n",
    "pp = PrettyPrinter(16)  # 16 is the column width of the output"
   ]
  },
  {
   "cell_type": "code",
   "execution_count": 2,
   "metadata": {
    "collapsed": false
   },
   "outputs": [],
   "source": [
    "game = SL.GameFSM(16)\n",
    "\n",
    "# Make ladders\n",
    "game.all_states[2].link = 10\n",
    "game.all_states[8].link = 14\n",
    "\n",
    "# Make snakes\n",
    "game.all_states[11].link = 4\n",
    "game.all_states[15].links = 6\n",
    "\n",
    "game.make_state_kinds()"
   ]
  },
  {
   "cell_type": "code",
   "execution_count": 3,
   "metadata": {
    "collapsed": false,
    "scrolled": false
   },
   "outputs": [
    {
     "name": "stdout",
     "output_type": "stream",
     "text": [
      "[               {'die': 3, 'end': 3, 'kind': 'B', 'start': 0},\n",
      "                {'die': 1, 'end': 4, 'kind': 'B', 'start': 3},\n",
      "                {'die': 2, 'end': 6, 'kind': 'B', 'start': 4},\n",
      "                {'die': 1, 'end': 7, 'kind': 'B', 'start': 6},\n",
      "                {'die': 3, 'end': 10, 'kind': 'B', 'start': 7},\n",
      "                {'die': 3, 'end': 13, 'kind': 'B', 'start': 10},\n",
      "                {'die': 4, 'end': 16, 'kind': 'B', 'start': 13}]\n",
      "7\n",
      "(0, 0)\n"
     ]
    }
   ],
   "source": [
    "game.run()\n",
    "pp.pprint(game.records)\n",
    "print(SL.count_moves(game.records))\n",
    "print(SL.count_snakes_and_ladders(game.records))"
   ]
  },
  {
   "cell_type": "markdown",
   "metadata": {},
   "source": [
    "Find average number of moves in 1000 games (variable `num_runs`)"
   ]
  },
  {
   "cell_type": "code",
   "execution_count": 10,
   "metadata": {
    "collapsed": false,
    "scrolled": true
   },
   "outputs": [
    {
     "name": "stdout",
     "output_type": "stream",
     "text": [
      "5.6253\n"
     ]
    }
   ],
   "source": [
    "tot_moves = 0\n",
    "all_moves = []\n",
    "num_runs = 10000\n",
    "for i in range(num_runs):\n",
    "    game.run()\n",
    "    moves = SL.count_moves(game.records)\n",
    "    tot_moves += moves\n",
    "    all_moves.append(moves)\n",
    "print(tot_moves/num_runs)"
   ]
  },
  {
   "cell_type": "code",
   "execution_count": 11,
   "metadata": {
    "collapsed": false
   },
   "outputs": [
    {
     "data": {
      "text/plain": [
       "21"
      ]
     },
     "execution_count": 11,
     "metadata": {},
     "output_type": "execute_result"
    }
   ],
   "source": [
    "max(all_moves)"
   ]
  },
  {
   "cell_type": "code",
   "execution_count": 14,
   "metadata": {
    "collapsed": false
   },
   "outputs": [],
   "source": [
    "df = pd.DataFrame({'moves': all_moves})"
   ]
  },
  {
   "cell_type": "code",
   "execution_count": 16,
   "metadata": {
    "collapsed": false,
    "scrolled": false
   },
   "outputs": [
    {
     "data": {
      "text/html": [
       "<div>\n",
       "<table border=\"1\" class=\"dataframe\">\n",
       "  <thead>\n",
       "    <tr style=\"text-align: right;\">\n",
       "      <th></th>\n",
       "      <th>moves</th>\n",
       "    </tr>\n",
       "  </thead>\n",
       "  <tbody>\n",
       "    <tr>\n",
       "      <th>count</th>\n",
       "      <td>10000.000000</td>\n",
       "    </tr>\n",
       "    <tr>\n",
       "      <th>mean</th>\n",
       "      <td>5.625300</td>\n",
       "    </tr>\n",
       "    <tr>\n",
       "      <th>std</th>\n",
       "      <td>2.259648</td>\n",
       "    </tr>\n",
       "    <tr>\n",
       "      <th>min</th>\n",
       "      <td>3.000000</td>\n",
       "    </tr>\n",
       "    <tr>\n",
       "      <th>25%</th>\n",
       "      <td>4.000000</td>\n",
       "    </tr>\n",
       "    <tr>\n",
       "      <th>50%</th>\n",
       "      <td>5.000000</td>\n",
       "    </tr>\n",
       "    <tr>\n",
       "      <th>75%</th>\n",
       "      <td>7.000000</td>\n",
       "    </tr>\n",
       "    <tr>\n",
       "      <th>max</th>\n",
       "      <td>21.000000</td>\n",
       "    </tr>\n",
       "  </tbody>\n",
       "</table>\n",
       "</div>"
      ],
      "text/plain": [
       "              moves\n",
       "count  10000.000000\n",
       "mean       5.625300\n",
       "std        2.259648\n",
       "min        3.000000\n",
       "25%        4.000000\n",
       "50%        5.000000\n",
       "75%        7.000000\n",
       "max       21.000000"
      ]
     },
     "execution_count": 16,
     "metadata": {},
     "output_type": "execute_result"
    }
   ],
   "source": [
    "df.describe()"
   ]
  },
  {
   "cell_type": "code",
   "execution_count": null,
   "metadata": {
    "collapsed": true
   },
   "outputs": [],
   "source": []
  },
  {
   "cell_type": "code",
   "execution_count": 24,
   "metadata": {
    "collapsed": false,
    "scrolled": true
   },
   "outputs": [
    {
     "data": {
      "text/plain": [
       "pandas.core.series.Series"
      ]
     },
     "execution_count": 24,
     "metadata": {},
     "output_type": "execute_result"
    }
   ],
   "source": [
    "type(df['moves'].value_counts())"
   ]
  },
  {
   "cell_type": "code",
   "execution_count": 31,
   "metadata": {
    "collapsed": false
   },
   "outputs": [],
   "source": [
    "move_counts = df['moves'].value_counts()"
   ]
  },
  {
   "cell_type": "markdown",
   "metadata": {},
   "source": [
    "**We want as many bins as there are integers between the lowest and highest number of moves found in the data!**\n",
    "`keys` is the method of the pd.Series object that pulls out those numbers. This approach is more robust than simply taking `len(move_counts)` in case some # moves are not represented."
   ]
  },
  {
   "cell_type": "code",
   "execution_count": 30,
   "metadata": {
    "collapsed": false
   },
   "outputs": [
    {
     "data": {
      "text/plain": [
       "array([[<matplotlib.axes._subplots.AxesSubplot object at 0x08241270>]], dtype=object)"
      ]
     },
     "execution_count": 30,
     "metadata": {},
     "output_type": "execute_result"
    },
    {
     "data": {
      "image/png": "[encoded data removed]",
      "text/plain": [
       "<matplotlib.figure.Figure at 0x82adfd0>"
      ]
     },
     "metadata": {},
     "output_type": "display_data"
    }
   ],
   "source": [
    "df.hist(bins=max(move_counts.keys())-min(move_counts.keys()))"
   ]
  }
 ],
 "metadata": {
  "kernelspec": {
   "display_name": "Python 3",
   "language": "python",
   "name": "python3"
  },
  "language_info": {
   "codemirror_mode": {
    "name": "ipython",
    "version": 3
   },
   "file_extension": ".py",
   "mimetype": "text/x-python",
   "name": "python",
   "nbconvert_exporter": "python",
   "pygments_lexer": "ipython3",
   "version": "3.5.1"
  }
 },
 "nbformat": 4,
 "nbformat_minor": 0
}
